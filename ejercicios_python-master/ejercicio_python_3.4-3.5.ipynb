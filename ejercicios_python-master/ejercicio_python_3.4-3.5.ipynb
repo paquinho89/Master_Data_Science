{
 "cells": [
  {
   "cell_type": "markdown",
   "metadata": {},
   "source": [
    "### Ejercicio3 python "
   ]
  },
  {
   "cell_type": "markdown",
   "metadata": {},
   "source": [
    "Ejercicio 3.4: Open Finn.txt file, read lines into a list. Create a new version of Finn_nbl.txt with no blank lines."
   ]
  },
  {
   "cell_type": "code",
   "execution_count": 25,
   "metadata": {},
   "outputs": [],
   "source": [
    "path='/home/dsc/Data/shell/Finn.txt'\n",
    "file_open= open(path)\n",
    "file_read= file_open.read()\n",
    "#o splitlines creaa unha lista con tódalas línea, e o que fas e eliminar eses elementtos da lista que son 0, e dicir, que son espacios en blanco\n",
    "lines= file_read.splitlines()\n",
    "file_no_blank_lines=\"\"\n",
    "\n",
    "for line in lines:\n",
    "    if len(line.strip())!=0:\n",
    "        file_no_blank_lines=file_no_blank_lines+'\\n'+line.strip()\n",
    "        \n",
    "#Crear un archivo novo que me incluya o novo texto nese archivo acabado de crear.\n",
    "final_file=open(\"/home/dsc/Data/shell/Finn_no_bl.txt\", 'w')\n",
    "final_file.write(file_no_blank_lines)\n",
    "final_file.close()"
   ]
  },
  {
   "cell_type": "code",
   "execution_count": null,
   "metadata": {},
   "outputs": [],
   "source": [
    "#Explicación para entender o que fixeches no anterior exercicio\n",
    "texto='pepe maña quere  ir a casa \\n\\npepe quere festa '\n",
    "lineas=texto.splitlines()\n",
    "final=\"\"\n",
    "for linea in lineas:\n",
    "    if len(linea.strip())!=0:\n",
    "        final=final+\"\\n\"+linea.strip()\n",
    "print(final)"
   ]
  },
  {
   "cell_type": "markdown",
   "metadata": {},
   "source": [
    "Ejercicio 3.5: Reset the workspace. Obtain the difference in number of lines between original Finn file and and\n",
    "the one without blank lines and print the result. (hint: use wc)"
   ]
  },
  {
   "cell_type": "code",
   "execution_count": 26,
   "metadata": {},
   "outputs": [
    {
     "name": "stdout",
     "output_type": "stream",
     "text": [
      "2688\n"
     ]
    }
   ],
   "source": [
    "#Creo dos listas con el split lines y hago la diferencia de longitud entre las dos listas. La diferencia es el número de saltos de línea\n",
    "path='/home/dsc/Data/shell/Finn.txt'\n",
    "file_open= open(path)\n",
    "file_read= file_open.read()\n",
    "lines= file_read.splitlines()\n",
    "number_of_lines=len(lines)\n",
    "\n",
    "path2='/home/dsc/Data/shell/Finn_no_bl.txt'\n",
    "file2_open= open(path2)\n",
    "file2_read=file2_open.read()\n",
    "lines2=file2_read.splitlines()\n",
    "number_of_lines2=len(lines2)\n",
    "\n",
    "print(number_of_lines-number_of_lines2)"
   ]
  }
 ],
 "metadata": {
  "kernelspec": {
   "display_name": "Python 3",
   "language": "python",
   "name": "python3"
  },
  "language_info": {
   "codemirror_mode": {
    "name": "ipython",
    "version": 3
   },
   "file_extension": ".py",
   "mimetype": "text/x-python",
   "name": "python",
   "nbconvert_exporter": "python",
   "pygments_lexer": "ipython3",
   "version": "3.6.4"
  }
 },
 "nbformat": 4,
 "nbformat_minor": 2
}
