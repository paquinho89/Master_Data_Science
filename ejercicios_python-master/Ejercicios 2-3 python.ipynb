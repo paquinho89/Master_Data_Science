{
 "cells": [
  {
   "cell_type": "markdown",
   "metadata": {},
   "source": [
    "EJERCICIOS DE PYTHON"
   ]
  },
  {
   "cell_type": "markdown",
   "metadata": {
    "collapsed": true
   },
   "source": [
    "EJERCICIO 1.1: Implement a function that takes as input three variables, and returns the largest of the three. Do\n",
    "this without using the Python max() function! Make one version without any local variable and\n",
    "another with one local variable. (hint: it might be easier to use edit)"
   ]
  },
  {
   "cell_type": "code",
   "execution_count": 20,
   "metadata": {
    "collapsed": true
   },
   "outputs": [],
   "source": [
    "def largest_variable (variable1, variable2, variable3):\n",
    "    if variable1>variable2>variable3 or variable1>variable3>variable2:\n",
    "        return variable1\n",
    "    elif variable2>variable1>variable3 or variable2>variable3>variable1:\n",
    "        return variable2\n",
    "    elif variable3>variable1>variable2 or variable3>variable2>variable1 :\n",
    "        return variable3"
   ]
  },
  {
   "cell_type": "code",
   "execution_count": 27,
   "metadata": {},
   "outputs": [
    {
     "name": "stdout",
     "output_type": "stream",
     "text": [
      "40\n"
     ]
    }
   ],
   "source": [
    "print(largest_variable (35,30,40))\n"
   ]
  },
  {
   "cell_type": "markdown",
   "metadata": {
    "collapsed": true
   },
   "source": [
    "EJERCICIO 1.2: Write a function “centenario” that will take Name, and year of birth as inputs, check if year of birth\n",
    "is int and cast it to int if not, and print name together with the text explaining when the person is to\n",
    "have 100 years (hint: use isinstance)\n",
    "Example:\n",
    "call to function: centenario(Antonio, 1967)\n",
    "output: Antonio will reach 100 years in 2067."
   ]
  },
  {
   "cell_type": "code",
   "execution_count": 40,
   "metadata": {
    "collapsed": true
   },
   "outputs": [],
   "source": [
    "def centenario (name, year_of_birth):\n",
    "    if isinstance(year_of_birth,int):\n",
    "        year=year_of_birth+100\n",
    "        return '%s will reach 100 years in %d' %(name,year)\n",
    "    else:\n",
    "        return \"Please, introduce a correct date\"\n"
   ]
  },
  {
   "cell_type": "code",
   "execution_count": 46,
   "metadata": {},
   "outputs": [
    {
     "data": {
      "text/plain": [
       "'pepe will reach 100 years in 2050'"
      ]
     },
     "execution_count": 46,
     "metadata": {},
     "output_type": "execute_result"
    }
   ],
   "source": [
    "centenario ('pepe', 1950)"
   ]
  },
  {
   "cell_type": "markdown",
   "metadata": {},
   "source": [
    "EJERCICIO 2.1: Write a function to calculate the number of words, number of lines, and length of a string the same way the wc command does in the command line"
   ]
  },
  {
   "cell_type": "code",
   "execution_count": 121,
   "metadata": {
    "collapsed": true
   },
   "outputs": [],
   "source": [
    "def words_lines_length(text):\n",
    "    return len(text.split(\" \" or \"\\n\")), len(text.splitlines()), len(text)    "
   ]
  },
  {
   "cell_type": "code",
   "execution_count": 124,
   "metadata": {},
   "outputs": [
    {
     "data": {
      "text/plain": [
       "(7, 2, 29)"
      ]
     },
     "execution_count": 124,
     "metadata": {},
     "output_type": "execute_result"
    }
   ],
   "source": [
    "words_lines_length('maña vou\\n a casa de meus pais')"
   ]
  },
  {
   "cell_type": "markdown",
   "metadata": {},
   "source": [
    "EJERCICIO 2.2: Write a Python program to remove the nth index character from a string. If the input string is empty print\n",
    "warning."
   ]
  },
  {
   "cell_type": "code",
   "execution_count": 200,
   "metadata": {
    "collapsed": true
   },
   "outputs": [],
   "source": [
    "def remove_n_index(text, n_index):\n",
    "    if not text:\n",
    "        return 'Please, write some text'\n",
    "    else:\n",
    "        return text[:n_index]+text[n_index+1:]\n",
    "        "
   ]
  },
  {
   "cell_type": "code",
   "execution_count": 201,
   "metadata": {},
   "outputs": [
    {
     "data": {
      "text/plain": [
       "'Please, write some text'"
      ]
     },
     "execution_count": 201,
     "metadata": {},
     "output_type": "execute_result"
    }
   ],
   "source": [
    "remove_n_index('',2)"
   ]
  },
  {
   "cell_type": "code",
   "execution_count": 202,
   "metadata": {},
   "outputs": [
    {
     "data": {
      "text/plain": [
       "'Camela'"
      ]
     },
     "execution_count": 202,
     "metadata": {},
     "output_type": "execute_result"
    }
   ],
   "source": [
    "remove_n_index('Carmela',2)"
   ]
  },
  {
   "cell_type": "markdown",
   "metadata": {},
   "source": [
    "EJERCICIO 4.1 For a sequence [1, 2, 3, 4, 5, 6, 7, 8 ] get the squared values using the lambda function."
   ]
  },
  {
   "cell_type": "code",
   "execution_count": 48,
   "metadata": {},
   "outputs": [
    {
     "data": {
      "text/plain": [
       "[1, 4, 9, 16, 25, 36, 49, 64]"
      ]
     },
     "execution_count": 48,
     "metadata": {},
     "output_type": "execute_result"
    }
   ],
   "source": [
    "def square(function,lista):\n",
    "    lista_resultado=[]\n",
    "    for n in lista:\n",
    "        resultado=function(n)\n",
    "        lista_resultado.append(resultado)\n",
    "    return lista_resultado\n",
    "\n",
    "square(lambda x:x**2,sequence)"
   ]
  },
  {
   "cell_type": "code",
   "execution_count": 5,
   "metadata": {},
   "outputs": [],
   "source": [
    "#Another way to resolve the exercises.\n",
    "lista=[1, 2, 3, 4, 5, 6, 7, 8 ]\n",
    "result=map(lambda x:x**2,lista)\n"
   ]
  },
  {
   "cell_type": "markdown",
   "metadata": {},
   "source": [
    "EJERCICIO 4.2:Prepare a list with 10 names. Make a code that will put all vowels to capitals and every other\n",
    "character to lower letters."
   ]
  },
  {
   "cell_type": "code",
   "execution_count": 9,
   "metadata": {},
   "outputs": [
    {
     "name": "stdout",
     "output_type": "stream",
     "text": [
      "pEpE AlbErtO pAqUInhO brAsIndA cOrIndA bEnItA gUmErsIndA EsmErAldA\n"
     ]
    }
   ],
   "source": [
    "names=('pepe alberto paquinho brasinda corinda benita gumersinda esmeralda')\n",
    "vowel=('a','e','i','o','u')\n",
    "contadr=0\n",
    "resultado=\"\"\n",
    "for letter in names:\n",
    "    if letter in vowel:\n",
    "        resultado=resultado+letter.upper()\n",
    "    else:\n",
    "        resultado=resultado+letter.lower()\n",
    "\n",
    "print(resultado)"
   ]
  },
  {
   "cell_type": "markdown",
   "metadata": {},
   "source": [
    "EJERCICIO 4.3: Prepare again a list with 10 names. Make a function with two input variables: list, and character; that\n",
    "returns a list of names containing one or more of input characters ’s inside the name."
   ]
  },
  {
   "cell_type": "code",
   "execution_count": 31,
   "metadata": {
    "collapsed": true
   },
   "outputs": [],
   "source": [
    "def inside(names,character):\n",
    "    names_of_interested=[]\n",
    "    for letter in names:\n",
    "        if letter.count(character)>=1:\n",
    "            names_of_interested.append(letter)\n",
    "    return names_of_interested\n",
    "        \n",
    "        "
   ]
  },
  {
   "cell_type": "code",
   "execution_count": 33,
   "metadata": {},
   "outputs": [
    {
     "data": {
      "text/plain": [
       "['roberto']"
      ]
     },
     "execution_count": 33,
     "metadata": {},
     "output_type": "execute_result"
    }
   ],
   "source": [
    "inside(['paquinho', 'pepe', 'roberto'],'t')\n"
   ]
  },
  {
   "cell_type": "markdown",
   "metadata": {},
   "source": [
    "EJERCICIO_4.4: Reverse word order from the input string"
   ]
  },
  {
   "cell_type": "code",
   "execution_count": 22,
   "metadata": {
    "collapsed": true
   },
   "outputs": [],
   "source": [
    "def reverse(cadena_texto):\n",
    "    return string[::-1]"
   ]
  },
  {
   "cell_type": "code",
   "execution_count": 23,
   "metadata": {},
   "outputs": [
    {
     "data": {
      "text/plain": [
       "'asac a uov añam'"
      ]
     },
     "execution_count": 23,
     "metadata": {},
     "output_type": "execute_result"
    }
   ],
   "source": [
    "reverse('Maña vou a casa')"
   ]
  },
  {
   "cell_type": "markdown",
   "metadata": {},
   "source": [
    "EJERCICIO_4.5: Create a function that accepts string as search string and returns number of lines with that string in a\n",
    "command history (hint : use a in b)"
   ]
  },
  {
   "cell_type": "markdown",
   "metadata": {},
   "source": [
    "NON O RESOLVO PORQUE NON SEI. O demas débese de resolver na línea de comandos."
   ]
  },
  {
   "cell_type": "markdown",
   "metadata": {},
   "source": [
    "EJERCICIO_4.6: Write a Python function that takes a list of words and returns the length of the longest one."
   ]
  },
  {
   "cell_type": "code",
   "execution_count": 34,
   "metadata": {},
   "outputs": [
    {
     "name": "stdout",
     "output_type": "stream",
     "text": [
      "gumersind\n"
     ]
    }
   ],
   "source": [
    "print(max(['a', 'cat', 'sat', 'gumersind'], key=lambda s: (len(s), s)))"
   ]
  },
  {
   "cell_type": "code",
   "execution_count": 87,
   "metadata": {},
   "outputs": [],
   "source": [
    "def longest_word(word_list):\n",
    "    word_len=[]\n",
    "    for word in word_list:\n",
    "        word_len.append((len(word),word))\n",
    "    word_len.sort()\n",
    "    return word_len[-1][1]\n"
   ]
  },
  {
   "cell_type": "code",
   "execution_count": 88,
   "metadata": {},
   "outputs": [
    {
     "data": {
      "text/plain": [
       "'maría'"
      ]
     },
     "execution_count": 88,
     "metadata": {},
     "output_type": "execute_result"
    }
   ],
   "source": [
    "longest_word(['pepe','maría','ana'])"
   ]
  },
  {
   "cell_type": "markdown",
   "metadata": {},
   "source": [
    "EJERCICIO_5.1:Categorize a list of words by their first letter, meaning that the result of the operation is first letter\n",
    "and all the words from the input list starting with that letter. (hint: use dict)"
   ]
  },
  {
   "cell_type": "code",
   "execution_count": 93,
   "metadata": {},
   "outputs": [
    {
     "ename": "SyntaxError",
     "evalue": "keyword can't be an expression (<ipython-input-93-68cc513ea319>, line 5)",
     "output_type": "error",
     "traceback": [
      "\u001b[1;36m  File \u001b[1;32m\"<ipython-input-93-68cc513ea319>\"\u001b[1;36m, line \u001b[1;32m5\u001b[0m\n\u001b[1;33m    resultado=dict(words[1][0]=names)\u001b[0m\n\u001b[1;37m                  ^\u001b[0m\n\u001b[1;31mSyntaxError\u001b[0m\u001b[1;31m:\u001b[0m keyword can't be an expression\n"
     ]
    }
   ],
   "source": [
    "words=['manolo','pepe','jose']\n",
    "\n",
    "for names in words:\n",
    "    if words[0][0]==words[1][0]:\n",
    "        resultado=dict(words[1][0]=names)\n",
    "print(resultado)\n",
    "    "
   ]
  },
  {
   "cell_type": "code",
   "execution_count": 92,
   "metadata": {},
   "outputs": [
    {
     "data": {
      "text/plain": [
       "'r'"
      ]
     },
     "execution_count": 92,
     "metadata": {},
     "output_type": "execute_result"
    }
   ],
   "source": [
    "lista=['manolo','maría']\n",
    "lista[1][-3]"
   ]
  }
 ],
 "metadata": {
  "kernelspec": {
   "display_name": "Python 3",
   "language": "python",
   "name": "python3"
  },
  "language_info": {
   "codemirror_mode": {
    "name": "ipython",
    "version": 3
   },
   "file_extension": ".py",
   "mimetype": "text/x-python",
   "name": "python",
   "nbconvert_exporter": "python",
   "pygments_lexer": "ipython3",
   "version": "3.6.3"
  }
 },
 "nbformat": 4,
 "nbformat_minor": 2
}
